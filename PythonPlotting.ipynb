{
 "cells": [
  {
   "cell_type": "code",
   "execution_count": 1,
   "metadata": {
    "collapsed": true
   },
   "outputs": [],
   "source": [
    "## This makes figures in a separate python window\n",
    "#%matplotlib\n",
    "## This makes static figures as .png files in the notebook: recommended\n",
    "%matplotlib inline\n",
    "## This makes figures \"live\" in the notebook\n",
    "#%matplotlib notebook"
   ]
  },
  {
   "cell_type": "code",
   "execution_count": 3,
   "metadata": {
    "collapsed": true
   },
   "outputs": [],
   "source": [
    "## Standard imports for working in python\n",
    "import matplotlib.pyplot as plt\n",
    "import numpy as np\n",
    "## It is highly recommended that you do NOT import * from any library\n",
    "## Otherwise you can run into bad function name overlaps\n",
    "## For instance, both numpy and python define \"sum\""
   ]
  },
  {
   "cell_type": "markdown",
   "metadata": {},
   "source": [
    "The matplotlib example gallery has good examples of how to do almost everything needed in matplotlib. When in doubt, you can take a look through here.\n",
    "\n",
    "https://matplotlib.org/gallery/index.html\n"
   ]
  },
  {
   "cell_type": "markdown",
   "metadata": {},
   "source": [
    "One confusing thing about matplotlib is that there are always at least 2 ways to do the same thing:\n",
    "The \"pyplot\" (or matlab-like) interface, and the \"object-oriented\" interface.\n",
    "\n",
    "The pyplot interface is usually better for making quick/interactive plots, while the object-oriented interface is usually better for making scripted plots.\n",
    "https://matplotlib.org/gallery/misc/pythonic_matplotlib.html#sphx-glr-gallery-misc-pythonic-matplotlib-py\n",
    "\n",
    "I usually default to the object-oriented interface, meaning I start making every plot with:\n",
    "`fig, ax = plt.subplots(figsize=(8,8))`"
   ]
  },
  {
   "cell_type": "markdown",
   "metadata": {},
   "source": [
    "# Basic Plotting\n",
    "\n",
    "https://matplotlib.org/gallery/pyplots/pyplot_formatstr.html#sphx-glr-gallery-pyplots-pyplot-formatstr-py\n",
    "\n",
    "* plot a line https://matplotlib.org/gallery/lines_bars_and_markers/simple_plot.html#sphx-glr-gallery-lines-bars-and-markers-simple-plot-py\n",
    "* plot a scatterplot with plt.plot: `plt.plot(x, y, 'o')`\n",
    "* plot a scatterplot with plt.scatter: `plt.scatter(x, y)`\n",
    "* plot errorbars: `plt.errorbar(x, y, fmt='o', yerr=y_err)` https://matplotlib.org/gallery/statistics/errorbar.html#sphx-glr-gallery-statistics-errorbar-py https://matplotlib.org/gallery/statistics/errorbar_features.html#sphx-glr-gallery-statistics-errorbar-features-py\n",
    "\n",
    "* Get the current figure or axis: `fig = plt.gcf()` and `ax = plt.gca()`\n",
    "\n",
    "* colors, line styles, markers, marker styles: https://matplotlib.org/api/pyplot_api.html#matplotlib.pyplot.plot\n",
    "\n",
    "\n",
    "* axis labels: `plt.xlabel('my label')` or `ax.set_xlabel('my label')`\n",
    "* axis limits: `plt.xlim(xmin, xmax)` or `ax.set_xlim(xmin, xmax)`\n",
    "* axis titles: `plt.title('my title')` or `ax.set_title('my title')`\n",
    "* axis tick marks: see `matplotlib.ticker.MultipleLocator` https://matplotlib.org/api/ticker_api.html, e.g. `ax.xaxis.set_major_locator(MultipleLocator(1))` or `ax.yaxis.set_minor_locator(MultipleLocator(0.1))`\n",
    "* inverting axes: set the axis limits in the reverse direction, or `ax.invert_xaxis()` https://matplotlib.org/gallery/subplots_axes_and_figures/invert_axes.html#sphx-glr-gallery-subplots-axes-and-figures-invert-axes-py\n",
    "* axis fonts https://matplotlib.org/gallery/text_labels_and_annotations/fonts_demo_kw.html#sphx-glr-gallery-text-labels-and-annotations-fonts-demo-kw-py https://matplotlib.org/gallery/text_labels_and_annotations/text_fontdict.html#sphx-glr-gallery-text-labels-and-annotations-text-fontdict-py\n",
    "* TeX in text: `plt.xlabel(r\"$\\sqrt{N}$\")`\n",
    "* legends https://matplotlib.org/gallery/text_labels_and_annotations/legend_demo.html#sphx-glr-gallery-text-labels-and-annotations-legend-demo-py https://matplotlib.org/gallery/recipes/transparent_legends.html#sphx-glr-gallery-recipes-transparent-legends-py\n",
    "https://matplotlib.org/gallery/text_labels_and_annotations/custom_legends.html#sphx-glr-gallery-text-labels-and-annotations-custom-legends-py\n",
    "* log scale: `ax.set_xscale('log')` https://matplotlib.org/2.0.0/examples/pylab_examples/log_demo.html\n",
    "\n",
    "\n",
    "\n",
    "* annotating and labeling figures: `plt.text`, `plt.figtext`, `plt.annotate`\n",
    "\n",
    "\n",
    "* figure of certain size: `fig = plt.figure(figsize=(8,11))` (in inches)\n",
    "* multi-panel figures: `fig, axes = plt.subplots(4, 2, figsize=(8,11))`\n",
    "\n",
    "\n",
    "* 1D histograms (`plt.hist`, `plt.step` and `np.histogram`)\n",
    "\n",
    "* saving figures `fig = plt.gcf(); fig.savefig(\"myname.png\", bbox_inches='tight', dpi=300)` (can also do .pdf, .eps, ...)\n",
    "\n",
    "* string formatting (e.g. when printing numbers): https://pyformat.info/"
   ]
  },
  {
   "cell_type": "code",
   "execution_count": null,
   "metadata": {
    "collapsed": true
   },
   "outputs": [],
   "source": []
  }
 ],
 "metadata": {
  "kernelspec": {
   "display_name": "Python 3",
   "language": "python",
   "name": "python3"
  },
  "language_info": {
   "codemirror_mode": {
    "name": "ipython",
    "version": 3
   },
   "file_extension": ".py",
   "mimetype": "text/x-python",
   "name": "python",
   "nbconvert_exporter": "python",
   "pygments_lexer": "ipython3",
   "version": "3.6.4"
  }
 },
 "nbformat": 4,
 "nbformat_minor": 2
}
