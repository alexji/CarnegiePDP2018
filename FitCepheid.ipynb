{
 "cells": [
  {
   "cell_type": "code",
   "execution_count": 43,
   "metadata": {
    "collapsed": false
   },
   "outputs": [],
   "source": [
    "%matplotlib inline\n",
    "import numpy as np\n",
    "import matplotlib.pyplot as plt\n",
    "\n",
    "from astropy.io import ascii\n",
    "from scipy import optimize\n",
    "\n",
    "import os, sys\n",
    "\n",
    "from cepheid_template import cepheid_lightcurve"
   ]
  },
  {
   "cell_type": "markdown",
   "metadata": {},
   "source": [
    "# The Leavitt Law\n",
    "\n",
    "_Cepheids_ are stars whose brightness varies with time. The brightness variations are _periodic_, meaning that after some time (the \"period\") the same pattern of brightness variations repeats.\n",
    "\n",
    "In the 1900s, the American astronomer Henrietta Leavitt discovered that Cepheid variable stars have a relationship between their period and mean luminosity. This period-luminosity relationship allowed the determination of distances to Cepheids.\n",
    "\n",
    "Detailed observations have been used to calibrate the relationship between period and luminosity (quantified by the absolute magnitude).\n",
    "The exact calibration depends on what color of light you observe the Cepheid in, but here we will look in the near-infrared (the \"I\" band).\n",
    "The relationship between period $P$ in days and mean absolute magnitude $M_{I,0}$ is given by\n",
    "$$M_{I,0} = -3.06 \\log P - 1.81$$\n",
    "(Madore and Freedman 1991).\n",
    "\n",
    "Since apparent magnitude corresponds to flux, and absolute magnitude corresponds to luminosity, measuring the period and mean apparent magnitude of a Cepheid allows you to determine the distance to that Cepheid:\n",
    "$$ 5 \\log \\frac{d}{\\text{10 pc}} = m_{I,0} - M_{I,0}$$"
   ]
  },
  {
   "cell_type": "markdown",
   "metadata": {},
   "source": [
    "Using these relations, create a function that takes the apparent mean magnitude and period to determine the distance."
   ]
  },
  {
   "cell_type": "code",
   "execution_count": 27,
   "metadata": {
    "collapsed": false
   },
   "outputs": [],
   "source": [
    "def get_distance(apparent_magnitude, period):\n",
    "    \"\"\"\n",
    "    <Insert comments here describing what the function does>\n",
    "    \"\"\"\n",
    "    return np.nan"
   ]
  },
  {
   "cell_type": "code",
   "execution_count": 42,
   "metadata": {
    "collapsed": true
   },
   "outputs": [],
   "source": [
    "## TODO remove from the notebook\n",
    "def get_distance(apparent_magnitude, period):\n",
    "    \"\"\"\n",
    "    Use the Leavitt law calibrated by Madore and Freeman 1991 \n",
    "    for the infrared (I) band to determine the distance to a Cepheid.\n",
    "    Input: \n",
    "      apparent_magnitude: mean apparent magnitude\n",
    "      period: period in days\n",
    "    Output:\n",
    "      distance in parsecs\n",
    "    \"\"\"\n",
    "    absmag = -3.06 * np.log10(period) - 1.81\n",
    "    return 10.* 10**((apparent_magnitude-absmag)/5)\n"
   ]
  },
  {
   "cell_type": "markdown",
   "metadata": {},
   "source": [
    "# Exploring the data\n",
    "\n",
    "Read in a dataset and plot the data (flux vs time). Make sure to label your axes.\n",
    "\n",
    "The time is in days, while the flux is in magnitudes ($m_I$)."
   ]
  },
  {
   "cell_type": "code",
   "execution_count": 31,
   "metadata": {
    "collapsed": true
   },
   "outputs": [],
   "source": [
    "# Pick a star number from 00 to 19\n",
    "datapath = \"variabledata/star00.dat\"\n",
    "data = ascii.read(datapath)"
   ]
  },
  {
   "cell_type": "code",
   "execution_count": 32,
   "metadata": {
    "collapsed": true
   },
   "outputs": [],
   "source": [
    "# Make a plot here"
   ]
  },
  {
   "cell_type": "markdown",
   "metadata": {},
   "source": [
    "# Exploring the model\n",
    "\n",
    "Examine the documentation for the `cepheid_lightcurve` function with \n",
    "`?cepheid_lightcurve`.\n",
    "What are the inputs you need? How many parameters are there in the model?\n",
    "Which parameter corresponds to luminosity? Which parameter corresponds to flux?\n",
    "\n",
    "Make some plots that demonstrate how changing the parameters affects the model lightcurve (at least one per parameter).\n"
   ]
  },
  {
   "cell_type": "code",
   "execution_count": 36,
   "metadata": {
    "collapsed": false
   },
   "outputs": [],
   "source": [
    "# In a notebook, the ? symbol pulls out the python \"docstring\"\n",
    "?cepheid_lightcurve"
   ]
  },
  {
   "cell_type": "code",
   "execution_count": null,
   "metadata": {
    "collapsed": true
   },
   "outputs": [],
   "source": []
  },
  {
   "cell_type": "markdown",
   "metadata": {},
   "source": [
    "# Fitting by hand\n",
    "\n",
    "Overplot the `cepheid_lightcurve` model on your data.\n",
    "Estimate the best-fit parameters by varying the parameters manually until you obtain a curve that fits your data.\n",
    "Determine the distance to this Cepheid with your best-fit parameters.\n",
    "Create a figure to explain the model you fit, the parameters you chose, and the distance you determined.\n",
    "Comment your code throughout, such that another team could read through the notebook and understand/use your code.\n",
    "\n",
    "Make a plot to present with your best-fit model, and annotate it with the chosen parameters and calculated distance."
   ]
  },
  {
   "cell_type": "code",
   "execution_count": null,
   "metadata": {
    "collapsed": true
   },
   "outputs": [],
   "source": []
  },
  {
   "cell_type": "markdown",
   "metadata": {},
   "source": [
    "# Fitting a model to data\n",
    "\n",
    "Use `scipy.optimize.curve_fit` to determine the best-fit parameters automatically.\n",
    "Create a figure to present the model you fit, the parameters you chose, and the distance you determined. Comment your code throughout, such that another team can quickly understand each step in your code."
   ]
  },
  {
   "cell_type": "code",
   "execution_count": 37,
   "metadata": {
    "collapsed": true
   },
   "outputs": [],
   "source": [
    "# Make sure you understand what scipy.optimize.curve_fit requires to run\n",
    "?optimize.curve_fit"
   ]
  },
  {
   "cell_type": "code",
   "execution_count": null,
   "metadata": {
    "collapsed": true
   },
   "outputs": [],
   "source": []
  },
  {
   "cell_type": "markdown",
   "metadata": {},
   "source": [
    "## Magnitudes, Flux, and Luminosity\n",
    "\n",
    "Note: in astronomy and astrophyscis, logarithms are usually assumed to be base 10 (instead of base $e$).\n",
    "A quick refresher on logarithm rules:\n",
    "$$\\log(ab) = \\log(a) + \\log(b)$$\n",
    "$$\\log(a^n) = n \\log(a)$$"
   ]
  },
  {
   "cell_type": "markdown",
   "metadata": {},
   "source": [
    "A _magnitude_ is a relative measure of the flux from an object.\n",
    "A magnitude difference between two objects directly corresponds to a\n",
    "flux ratio. The definition is:\n",
    "$$m_1 - m_2 = -2.5 \\log\\frac{F_1}{F_2} $$\n",
    "\n",
    "Often we implicitly assume that object 2 is a \"reference\" object,\n",
    "such as Vega, which is defined to have magnitude zero. So we will then\n",
    "write:\n",
    "$$m = -2.5 \\log\\frac{F}{F_0}$$\n",
    "where $F_0$ is the flux from Vega. (In practice, ever since we\n",
    "suspected that Vega is a variable star, we have just picked a number\n",
    "for $F_0$ that is defined as magnitude zero.)\n",
    "You can almost always avoid having to plug in a number for $F_0$ as \n",
    "usually we are interested in flux ratios between objects (e.g., how\n",
    "many times brighter is object 1 compared to object 2?).\n",
    "\n",
    "Confusingly, a more negative magnitude implies a brighter object. This is because the magnitude system dates back to ancient astronomers, where the brightest stars were denoted 1 magnitude, the next brightest stars were denoted 2 magnitudes, etc."
   ]
  },
  {
   "cell_type": "markdown",
   "metadata": {},
   "source": [
    "This definition for magnitudes implicitly defines _absolute magnitudes_\n",
    "and the _distance modulus_.\n",
    "Since $F = L/4\\pi d^2$, this means that:\n",
    "$$m_1 - m_2 = -2.5 \\log\\frac{L_1 d_2^2}{L_2 d_1^2}$$\n",
    "where the $4\\pi$ cancels out.\n",
    "\n",
    "Let's now suppose object 2 is an object\n",
    "of the same intrinsic luminosity as object 1, but at a distance of 10\n",
    "pc. Then we know $L_1=L_2$ and $d_2=10\\rm{pc}$:\n",
    "$$m_1 - m_2 = -2.5 \\log\\left(\\frac{d_1}{d_2}\\right)^{-2}$$\n",
    "and then expanding the log rules and realizing $m_2=M$ as the\n",
    "definition of the absolute magnitude, we obtain\n",
    "$$m - M = 5 \\log\\left(\\frac{d}{10\\text{ pc}}\\right)$$\n",
    "where the right hand side is defined as the distance modulus DM. So\n",
    "between the apparent magnitude $m$, the absolute magnitude $M$, and\n",
    "the distance $d$, knowing any two of them gives you the third."
   ]
  },
  {
   "cell_type": "markdown",
   "metadata": {},
   "source": [
    "By convention, apparent magnitudes are denoted with a lowercase $m$, while absolute magnitudes are denoted with an uppercase $M$.\n",
    "(Yes, this can be very confusing.)"
   ]
  }
 ],
 "metadata": {
  "kernelspec": {
   "display_name": "Python 2",
   "language": "python",
   "name": "python2"
  },
  "language_info": {
   "codemirror_mode": {
    "name": "ipython",
    "version": 2
   },
   "file_extension": ".py",
   "mimetype": "text/x-python",
   "name": "python",
   "nbconvert_exporter": "python",
   "pygments_lexer": "ipython2",
   "version": "2.7.11"
  }
 },
 "nbformat": 4,
 "nbformat_minor": 2
}
